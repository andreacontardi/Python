{
  "nbformat": 4,
  "nbformat_minor": 0,
  "metadata": {
    "colab": {
      "provenance": [],
      "authorship_tag": "ABX9TyPa0qqbmfx3M1zqDnF0VcwY"
    },
    "kernelspec": {
      "name": "python3",
      "display_name": "Python 3"
    },
    "language_info": {
      "name": "python"
    }
  },
  "cells": [
    {
      "cell_type": "code",
      "source": [
        "# prompt: connettiti a bigquery, esegui una query, esporta i risultati in un csv delimitato da ; ed invialo alla mail a3459193-48dd-47d5-a0fa-72a94167266a@files.funnel.io\n",
        "\n",
        "import pandas as pd\n",
        "from google.cloud import bigquery\n",
        "from google.colab import auth\n",
        "import smtplib\n",
        "from email.mime.text import MIMEText\n",
        "from email.mime.multipart import MIMEMultipart\n",
        "from email.mime.base import MIMEBase\n",
        "from email import encoders\n",
        "\n",
        "# Authenticate with Google Cloud\n",
        "auth.authenticate_user()\n",
        "\n",
        "# Replace with your actual project ID and SQL query\n",
        "project_id = 'iafnetwork' # Replace with your project ID\n",
        "sql_query = \"select * from iafnetwork.share.marketing_funnel\" # Replace with your SQL query\n",
        "\n",
        "# Construct a BigQuery client object.\n",
        "# Explicitly pass the project ID here\n",
        "client = bigquery.Client(project=project_id)\n",
        "\n",
        "# Run the query\n",
        "# The project ID is already set in the client object\n",
        "query_job = client.query(sql_query)\n",
        "results = query_job.result()\n",
        "\n",
        "# Convert the results to a Pandas DataFrame\n",
        "df = results.to_dataframe()\n",
        "\n",
        "# Export to CSV with semicolon delimiter\n",
        "csv_file_path = 'bigquery_results.csv'\n",
        "df.to_csv(csv_file_path, sep=';', index=False)\n",
        "\n",
        "\n",
        "# Email configuration\n",
        "sender_email = \"andreacontardiiaf@gmail.com\" # Replace with your Gmail email\n",
        "sender_password = \"\"\"vxlf pwvw gqii rahb\"\"\" # Replace with your Gmail app password\n",
        "receiver_email = 'a3459193-48dd-47d5-a0fa-72a94167266a@files.funnel.io'\n",
        "\n",
        "# Create the email message\n",
        "msg = MIMEMultipart()\n",
        "msg['From'] = sender_email\n",
        "msg['To'] = receiver_email\n",
        "msg['Subject'] = 'BigQuery Results'\n",
        "\n",
        "# Attach the CSV file\n",
        "with open(csv_file_path, 'rb') as f:\n",
        "  part = MIMEBase('application', 'octet-stream')\n",
        "  part.set_payload(f.read())\n",
        "  encoders.encode_base64(part)\n",
        "  part.add_header('Content-Disposition', \"attachment; filename= bigquery_results.csv\")\n",
        "  msg.attach(part)\n",
        "\n",
        "\n",
        "# Send the email\n",
        "try:\n",
        "  with smtplib.SMTP_SSL('smtp.gmail.com', 465) as smtp:  # Use SMTP_SSL for Gmail\n",
        "    smtp.login(sender_email, sender_password)\n",
        "    smtp.send_message(msg)\n",
        "    print(\"Email sent successfully!\")\n",
        "except Exception as e:\n",
        "  print(f\"Error sending email: {e}\")"
      ],
      "metadata": {
        "colab": {
          "base_uri": "https://localhost:8080/"
        },
        "id": "6Ymo_9v3RfXY",
        "outputId": "4078789d-f7f3-48f0-f39e-9b64d05b1605"
      },
      "execution_count": 8,
      "outputs": [
        {
          "output_type": "stream",
          "name": "stdout",
          "text": [
            "Email sent successfully!\n"
          ]
        }
      ]
    }
  ]
}